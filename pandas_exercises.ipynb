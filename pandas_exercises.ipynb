{
 "cells": [
  {
   "cell_type": "markdown",
   "id": "b9a6ccbb",
   "metadata": {},
   "source": [
    "# Pandas Exercises"
   ]
  },
  {
   "cell_type": "markdown",
   "id": "512c1119",
   "metadata": {},
   "source": [
    "## A coworker asks you to take a look at the world_alcohol.csv in the data directory."
   ]
  },
  {
   "cell_type": "markdown",
   "id": "b78c1e5e",
   "metadata": {},
   "source": [
    "### Read in the world_alcohol.csv."
   ]
  },
  {
   "cell_type": "code",
   "execution_count": null,
   "id": "a41699cc",
   "metadata": {},
   "outputs": [],
   "source": []
  },
  {
   "cell_type": "markdown",
   "id": "df95ce7f",
   "metadata": {},
   "source": [
    "### \"How many rows and columns does the dataset have?\""
   ]
  },
  {
   "cell_type": "code",
   "execution_count": null,
   "id": "aaa72553",
   "metadata": {},
   "outputs": [],
   "source": []
  },
  {
   "cell_type": "markdown",
   "id": "417751ff",
   "metadata": {},
   "source": [
    "### Let's just look at the Country, Beverage Types, and Display Value columns of the dataset."
   ]
  },
  {
   "cell_type": "code",
   "execution_count": null,
   "id": "e876a583",
   "metadata": {},
   "outputs": [],
   "source": []
  },
  {
   "cell_type": "markdown",
   "id": "3566b231",
   "metadata": {},
   "source": [
    "### \"Show me with only the data from 1986.\""
   ]
  },
  {
   "cell_type": "code",
   "execution_count": null,
   "id": "d7a70298",
   "metadata": {},
   "outputs": [],
   "source": []
  },
  {
   "cell_type": "markdown",
   "id": "c4fbd768",
   "metadata": {},
   "source": [
    "### \"Show me the data for the year 1986 in the Western Pacific WHO region for the country of Viet Nam.\""
   ]
  },
  {
   "cell_type": "code",
   "execution_count": null,
   "id": "e4c399a9",
   "metadata": {},
   "outputs": [],
   "source": []
  },
  {
   "cell_type": "markdown",
   "id": "6907d5f0",
   "metadata": {},
   "source": [
    "### \"Show only the rows of the data that are for the year '1986' or '1989' where WHO region is 'Americas' from the world alcohol consumption dataset.\""
   ]
  },
  {
   "cell_type": "code",
   "execution_count": null,
   "id": "1dacdabd",
   "metadata": {},
   "outputs": [],
   "source": []
  },
  {
   "cell_type": "markdown",
   "id": "6b8ac7f7",
   "metadata": {},
   "source": [
    "### \"Do any of the countries have a Display Value that is greater than or equal to 5 when the Beverage Type is Beer?\""
   ]
  },
  {
   "cell_type": "code",
   "execution_count": null,
   "id": "d9f5dfcb",
   "metadata": {},
   "outputs": [],
   "source": []
  },
  {
   "cell_type": "markdown",
   "id": "ad4288d3",
   "metadata": {},
   "source": [
    "### \"Do any of the countries have a Display Value that ranges from .5 to 2.50?\""
   ]
  },
  {
   "cell_type": "code",
   "execution_count": null,
   "id": "9379350b",
   "metadata": {},
   "outputs": [],
   "source": []
  },
  {
   "cell_type": "markdown",
   "id": "6d881664",
   "metadata": {},
   "source": [
    "## Just as you as one coworker leaves, another coworker asks you to take a look at the order.csv in the data directory"
   ]
  },
  {
   "cell_type": "markdown",
   "id": "2539b8f7",
   "metadata": {},
   "source": [
    "### Read in the order.csv."
   ]
  },
  {
   "cell_type": "code",
   "execution_count": null,
   "id": "cbd9e90d",
   "metadata": {
    "scrolled": false
   },
   "outputs": [],
   "source": []
  },
  {
   "cell_type": "markdown",
   "id": "80365f5f",
   "metadata": {},
   "source": [
    "### \"Which columns have nulls in them?\""
   ]
  },
  {
   "cell_type": "code",
   "execution_count": null,
   "id": "63059e23",
   "metadata": {},
   "outputs": [],
   "source": []
  },
  {
   "cell_type": "markdown",
   "id": "f91f7799",
   "metadata": {},
   "source": [
    "### \"How many nulls are in each column?\""
   ]
  },
  {
   "cell_type": "code",
   "execution_count": null,
   "id": "300c6542",
   "metadata": {
    "scrolled": true
   },
   "outputs": [],
   "source": []
  },
  {
   "cell_type": "markdown",
   "id": "efac8a99",
   "metadata": {},
   "source": [
    "### \"What would be an appropriate way to fill the nulls for each column?\""
   ]
  },
  {
   "cell_type": "markdown",
   "id": "345a80af",
   "metadata": {},
   "source": []
  },
  {
   "cell_type": "markdown",
   "id": "642223e2",
   "metadata": {},
   "source": [
    "### \"What would it look like if we drop columns that have nulls in them?\""
   ]
  },
  {
   "cell_type": "code",
   "execution_count": null,
   "id": "e173e1ba",
   "metadata": {},
   "outputs": [],
   "source": []
  },
  {
   "cell_type": "markdown",
   "id": "ad3bf9aa",
   "metadata": {},
   "source": [
    "### \"Nevermind, what would it look like if we drop rows that have nulls in them?\""
   ]
  },
  {
   "cell_type": "code",
   "execution_count": null,
   "id": "7b5d58c9",
   "metadata": {},
   "outputs": [],
   "source": []
  },
  {
   "cell_type": "markdown",
   "id": "29a6e68a",
   "metadata": {},
   "source": [
    "### \"Perfect\"\n",
    "\n",
    "## But of course, as this coworker leaves, yet another coworker appears asking you to look at the Churn_Modeling.csv."
   ]
  },
  {
   "cell_type": "code",
   "execution_count": null,
   "id": "e47a7205",
   "metadata": {},
   "outputs": [],
   "source": []
  },
  {
   "cell_type": "markdown",
   "id": "49f42f78",
   "metadata": {},
   "source": [
    "### \"What is the average Credit Score for each country?\""
   ]
  },
  {
   "cell_type": "code",
   "execution_count": null,
   "id": "75d9fdc3",
   "metadata": {},
   "outputs": [],
   "source": []
  },
  {
   "cell_type": "markdown",
   "id": "8535f0f0",
   "metadata": {},
   "source": [
    "### \"What is the average Credit Score for each country by gender?\""
   ]
  },
  {
   "cell_type": "code",
   "execution_count": null,
   "id": "5e9dcb0f",
   "metadata": {},
   "outputs": [],
   "source": []
  },
  {
   "cell_type": "markdown",
   "id": "7e3bff9c",
   "metadata": {},
   "source": [
    "### \"How many active members do we have in each country?\""
   ]
  },
  {
   "cell_type": "code",
   "execution_count": null,
   "id": "99ab9791",
   "metadata": {},
   "outputs": [],
   "source": []
  }
 ],
 "metadata": {
  "kernelspec": {
   "display_name": "Python 3 (ipykernel)",
   "language": "python",
   "name": "python3"
  },
  "language_info": {
   "codemirror_mode": {
    "name": "ipython",
    "version": 3
   },
   "file_extension": ".py",
   "mimetype": "text/x-python",
   "name": "python",
   "nbconvert_exporter": "python",
   "pygments_lexer": "ipython3",
   "version": "3.9.12"
  }
 },
 "nbformat": 4,
 "nbformat_minor": 5
}
